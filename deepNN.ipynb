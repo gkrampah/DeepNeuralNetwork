{
 "cells": [
  {
   "cell_type": "code",
   "execution_count": 3,
   "metadata": {},
   "outputs": [],
   "source": [
    "import warnings\n",
    "\n",
    "warnings.simplefilter(\"ignore\")\n",
    "\n",
    "import numpy as np\n",
    "import matplotlib.pyplot as plt\n",
    "import pandas as pd\n",
    "import random\n",
    "\n",
    "from sklearn.neural_network import MLPClassifier\n",
    "from sklearn.model_selection import RandomizedSearchCV\n",
    "from sklearn.metrics import accuracy_score, classification_report"
   ]
  },
  {
   "cell_type": "code",
   "execution_count": 9,
   "metadata": {},
   "outputs": [
    {
     "data": {
      "text/plain": [
       "((42000, 784), (42000,))"
      ]
     },
     "execution_count": 9,
     "metadata": {},
     "output_type": "execute_result"
    }
   ],
   "source": [
    "digits = pd.read_csv(\"train.csv\")\n",
    "\n",
    "labels = digits[\"label\"]\n",
    "digits = np.array(digits.drop(\"label\", axis=1)).astype(\"float\")\n",
    "digits.shape, labels.shape"
   ]
  },
  {
   "cell_type": "code",
   "execution_count": 10,
   "metadata": {},
   "outputs": [
    {
     "data": {
      "image/png": "[encoded data removed]",
      "text/plain": [
       "<Figure size 864x288 with 5 Axes>"
      ]
     },
     "metadata": {
      "needs_background": "light"
     },
     "output_type": "display_data"
    }
   ],
   "source": [
    "plt.figure(figsize=(12, 4))\n",
    "for i in range(5):\n",
    "    plt.subplot(1, 5, i + 1)\n",
    "    plt.imshow(random.choice(digits).reshape(28, 28))\n",
    "    plt.axis(\"off\")"
   ]
  },
  {
   "cell_type": "code",
   "execution_count": 11,
   "metadata": {},
   "outputs": [
    {
     "data": {
      "text/plain": [
       "((29399, 784), (12601, 784))"
      ]
     },
     "execution_count": 11,
     "metadata": {},
     "output_type": "execute_result"
    }
   ],
   "source": [
    "split = 0.7, 0.3  # train, test\n",
    "# normalize data\n",
    "digits /= 255.0\n",
    "\n",
    "split_ind = int(len(digits) * split[0])\n",
    "X_train, X_test, y_train, y_test = (\n",
    "    digits[:split_ind],\n",
    "    digits[split_ind:],\n",
    "    labels[:split_ind],\n",
    "    labels[split_ind:],\n",
    ")\n",
    "X_train.shape, X_test.shape"
   ]
  },
  {
   "cell_type": "code",
   "execution_count": 12,
   "metadata": {},
   "outputs": [
    {
     "name": "stdout",
     "output_type": "stream",
     "text": [
      "Using MLPClassifier with the default parameter values gives an accuracy of 0.9637330370605508\n"
     ]
    }
   ],
   "source": [
    "model = MLPClassifier().fit(X_train, y_train)\n",
    "y_pred = model.predict(X_test)\n",
    "\n",
    "print(\n",
    "    f\"Using MLPClassifier with the default parameter values gives an accuracy of {accuracy_score(y_pred, y_test)}\"\n",
    ")"
   ]
  },
  {
   "cell_type": "code",
   "execution_count": 13,
   "metadata": {},
   "outputs": [
    {
     "name": "stdout",
     "output_type": "stream",
     "text": [
      "              precision    recall  f1-score   support\n",
      "\n",
      "           0       0.98      0.98      0.98      1273\n",
      "           1       0.99      0.97      0.98      1438\n",
      "           2       0.96      0.97      0.96      1202\n",
      "           3       0.95      0.97      0.96      1293\n",
      "           4       0.98      0.95      0.96      1216\n",
      "           5       0.97      0.92      0.95      1195\n",
      "           6       0.94      0.99      0.97      1169\n",
      "           7       0.97      0.97      0.97      1335\n",
      "           8       0.96      0.95      0.95      1256\n",
      "           9       0.93      0.96      0.94      1224\n",
      "\n",
      "    accuracy                           0.96     12601\n",
      "   macro avg       0.96      0.96      0.96     12601\n",
      "weighted avg       0.96      0.96      0.96     12601\n",
      "\n"
     ]
    }
   ],
   "source": [
    "print(classification_report(y_pred, y_test))"
   ]
  },
  {
   "cell_type": "code",
   "execution_count": 14,
   "metadata": {},
   "outputs": [
    {
     "name": "stdout",
     "output_type": "stream",
     "text": [
      "The best parameter values found are:\n",
      "\n",
      "{'max_iter': 500, 'learning_rate_init': 0.01, 'hidden_layer_sizes': 100, 'alpha': 0.001}\n"
     ]
    }
   ],
   "source": [
    "parameters = {\n",
    "    \"hidden_layer_sizes\": [50, 100, 200],\n",
    "    \"alpha\": [0.001, 0.01, 0.1],\n",
    "    \"max_iter\": [200, 500, 800],\n",
    "    \"learning_rate_init\": [0.0001, 0.001, 0.01, 0.1],\n",
    "}\n",
    "\n",
    "model = MLPClassifier()\n",
    "clf = RandomizedSearchCV(estimator=model, param_distributions=parameters, cv=5)\n",
    "clf.fit(\n",
    "    X_train[:3000], y_train[:3000]\n",
    ")  # reduce the train set size to shorten the training time\n",
    "\n",
    "print(\"The best parameter values found are:\\n\")\n",
    "print(clf.best_params_)\n",
    "\n",
    "# store the best model found in \"bestmodel\"\n",
    "bestmodel = clf.best_estimator_"
   ]
  },
  {
   "cell_type": "code",
   "execution_count": 15,
   "metadata": {},
   "outputs": [
    {
     "name": "stdout",
     "output_type": "stream",
     "text": [
      "The accuracy score of the best model is 0.9331799063566384\n",
      "\n"
     ]
    },
    {
     "data": {
      "image/png": "[encoded data removed]",
      "text/plain": [
       "<Figure size 864x576 with 10 Axes>"
      ]
     },
     "metadata": {
      "needs_background": "light"
     },
     "output_type": "display_data"
    }
   ],
   "source": [
    "y_pred = bestmodel.predict(X_test)\n",
    "print(f\"The accuracy score of the best model is {accuracy_score(y_test, y_pred)}\\n\")\n",
    "\n",
    "plt.figure(figsize=(12, 8))\n",
    "for i in range(10):\n",
    "    plt.subplot(2, 5, i + 1)\n",
    "    sample = random.choice(X_test)\n",
    "    plt.imshow(sample.reshape(28, 28))\n",
    "    pred = bestmodel.predict(sample.reshape(1, -1))\n",
    "    plt.title(f\"Predicted as {pred}\")\n",
    "    plt.axis(\"off\")\n",
    "\n",
    "plt.tight_layout()"
   ]
  },
  {
   "cell_type": "code",
   "execution_count": null,
   "metadata": {},
   "outputs": [],
   "source": []
  }
 ],
 "metadata": {
  "kernelspec": {
   "display_name": "Python 3",
   "language": "python",
   "name": "python3"
  },
  "language_info": {
   "codemirror_mode": {
    "name": "ipython",
    "version": 3
   },
   "file_extension": ".py",
   "mimetype": "text/x-python",
   "name": "python",
   "nbconvert_exporter": "python",
   "pygments_lexer": "ipython3",
   "version": "3.6.10"
  }
 },
 "nbformat": 4,
 "nbformat_minor": 2
}
