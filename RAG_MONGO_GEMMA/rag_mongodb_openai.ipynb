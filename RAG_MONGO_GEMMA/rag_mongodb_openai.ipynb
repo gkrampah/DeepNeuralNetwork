{
 "cells": [
  {
   "cell_type": "code",
   "execution_count": 7,
   "metadata": {},
   "outputs": [],
   "source": [
    "# Load Dataset\n",
    "from datasets import load_dataset\n",
    "import pandas as pd\n",
    "import textwrap"
   ]
  },
  {
   "cell_type": "code",
   "execution_count": 2,
   "metadata": {},
   "outputs": [],
   "source": [
    "# dataset = load_dataset(\"MongoDB/embedded_movies\")\n",
    "# # Convert the dataset to a pandas DataFrame\n",
    "# dataset_df = pd.DataFrame(dataset[\"train\"])"
   ]
  },
  {
   "cell_type": "code",
   "execution_count": 3,
   "metadata": {},
   "outputs": [],
   "source": [
    "# dataset_df = dataset_df.dropna(subset=[\"plot\"])\n",
    "# dataset_df = dataset_df.drop(columns=[\"plot_embedding\"])"
   ]
  },
  {
   "cell_type": "code",
   "execution_count": 2,
   "metadata": {},
   "outputs": [],
   "source": [
    "from dotenv import load_dotenv\n",
    "import os\n",
    "import openai\n",
    "\n",
    "load_dotenv(\"../.env\", override=True)\n",
    "\n",
    "\n",
    "OPENAI_ENDPOINT = os.getenv(\"OPENAI_BASE_URL\") + \"/embeddings\"\n",
    "\n",
    "\n",
    "openai.api_key = os.getenv(\"OPENAI_API_KEY\")\n",
    "\n",
    "api_key = os.getenv(\"OPENAI_API_KEY\")\n",
    "\n",
    "DB_NAME = \"New_Movies\"\n",
    "\n",
    "COLLECTION_NAME = \"movie_collection\"\n",
    "\n",
    "ATLAS_VECTOR_SEARCH_INDEX_NAME = \"vector_index\"\n",
    "\n",
    "EMBEDDING_MODEL = \"text-embedding-3-small\"\n",
    "\n",
    "\n",
    "def get_embedding(text):\n",
    "    \"\"\"Generate an embedding for the given text using OpenAI's API.\"\"\"\n",
    "\n",
    "    # Check for valid input\n",
    "    if not text or not isinstance(text, str):\n",
    "        return None\n",
    "\n",
    "    try:\n",
    "        # Call OpenAI API to get the embedding\n",
    "        embedding = (\n",
    "            openai.embeddings.create(input=text, model=EMBEDDING_MODEL)\n",
    "            .data[0]\n",
    "            .embedding\n",
    "        )\n",
    "        return embedding\n",
    "    except Exception as e:\n",
    "        print(f\"Error in get_embedding: {e}\")\n",
    "        return None\n",
    "\n",
    "\n",
    "# dataset_df[\"new_embedding\"] = dataset_df['plot'].apply(get_embedding)\n",
    "\n",
    "# dataset_df.head(2)"
   ]
  },
  {
   "cell_type": "markdown",
   "metadata": {},
   "source": [
    "Create a database and a vector search index"
   ]
  },
  {
   "cell_type": "code",
   "execution_count": 4,
   "metadata": {},
   "outputs": [
    {
     "name": "stdout",
     "output_type": "stream",
     "text": [
      "Connection to MongoDB successful\n"
     ]
    }
   ],
   "source": [
    "import pymongo\n",
    "\n",
    "\n",
    "def get_mongo_client(mongo_uri):\n",
    "    \"\"\"Establish connection to the MongoDB.\"\"\"\n",
    "    try:\n",
    "        client = pymongo.MongoClient(mongo_uri)\n",
    "        print(\"Connection to MongoDB successful\")\n",
    "        return client\n",
    "    except pymongo.errors.ConnectionFailure as e:\n",
    "        print(f\"Connection failed: {e}\")\n",
    "        return None\n",
    "\n",
    "\n",
    "mongo_uri = os.getenv(\"MONGO_BASE_URL\")\n",
    "\n",
    "if not mongo_uri:\n",
    "    print(\"MONGO_URI not set in environment variables\")\n",
    "\n",
    "mongo_client = get_mongo_client(mongo_uri)\n",
    "\n",
    "# Ingest data into MongoDB\n",
    "db = mongo_client[\"New_Movies\"]\n",
    "\n",
    "collection = db[\"movie_collection\"]"
   ]
  },
  {
   "cell_type": "code",
   "execution_count": 6,
   "metadata": {},
   "outputs": [
    {
     "name": "stdout",
     "output_type": "stream",
     "text": [
      "Data ingestion into MongoDB completed\n"
     ]
    }
   ],
   "source": [
    "# documents = dataset_df.to_dict(\"records\")\n",
    "# collection.insert_many(documents)\n",
    "# print(\"Data ingestion into MongoDB completed\")"
   ]
  },
  {
   "cell_type": "code",
   "execution_count": 17,
   "metadata": {},
   "outputs": [],
   "source": [
    "def vector_search(user_query, collection):\n",
    "    \"\"\"\n",
    "    Perform a vector search in the MongoDB collection based on the user query.\n",
    "\n",
    "    Args:\n",
    "    user_query (str): The user's query string.\n",
    "    collection (MongoCollection): The MongoDB collection to search.\n",
    "\n",
    "    Returns:\n",
    "    list: A list of matching documents.\n",
    "    \"\"\"\n",
    "\n",
    "    # Generate embedding for the user query\n",
    "    query_embedding = get_embedding(user_query)\n",
    "\n",
    "    if query_embedding is None:\n",
    "        return \"Invalid query or embedding generation failed.\"\n",
    "\n",
    "    # Define the vector search pipeline\n",
    "    pipeline = [\n",
    "        {\n",
    "            \"$vectorSearch\": {\n",
    "                \"index\": \"vector_index\",\n",
    "                \"queryVector\": query_embedding,\n",
    "                \"path\": \"embedding\",\n",
    "                \"numCandidates\": 150,  # Number of candidate matches to consider\n",
    "                \"limit\": 4,  # Return top 4 matches\n",
    "            }\n",
    "        },\n",
    "        {\n",
    "            \"$project\": {\n",
    "                \"_id\": 0,  # Exclude the _id field\n",
    "                \"plot\": 1,  # Include the plot field\n",
    "                \"title\": 1,  # Include the title field\n",
    "                \"genres\": 1,  # Include the genres field\n",
    "                # Include the search score\n",
    "                \"score\": {\"$meta\": \"vectorSearchScore\"},\n",
    "            }\n",
    "        },\n",
    "    ]\n",
    "\n",
    "    # Execute the search\n",
    "    results = collection.aggregate(pipeline)\n",
    "    return list(results)"
   ]
  },
  {
   "cell_type": "code",
   "execution_count": 18,
   "metadata": {},
   "outputs": [],
   "source": [
    "def handle_user_query(query, collection):\n",
    "\n",
    "    get_knowledge = vector_search(query, collection)\n",
    "\n",
    "    search_result = \"\"\n",
    "    for result in get_knowledge:\n",
    "        search_result += (\n",
    "            f\"Title: {result.get('title', 'N/A')}, Plot: {result.get('plot', 'N/A')}\\\\n\"\n",
    "        )\n",
    "\n",
    "    completion = openai.chat.completions.create(\n",
    "        model=\"gpt-3.5-turbo\",\n",
    "        messages=[\n",
    "            {\"role\": \"system\", \"content\": \"You are a movie recommendation system.\"},\n",
    "            {\n",
    "                \"role\": \"user\",\n",
    "                \"content\": \"Answer this user query: \"\n",
    "                + query\n",
    "                + \" with the following context: \"\n",
    "                + search_result,\n",
    "            },\n",
    "        ],\n",
    "    )\n",
    "\n",
    "    return (completion.choices[0].message.content), search_result\n"
   ]
  },
  {
   "cell_type": "code",
   "execution_count": 27,
   "metadata": {},
   "outputs": [],
   "source": [
    "query = \"What is the best romantic movie to watch and why?\"\n",
    "\n",
    "response, source_information = handle_user_query(query, collection)"
   ]
  },
  {
   "cell_type": "code",
   "execution_count": 28,
   "metadata": {},
   "outputs": [
    {
     "name": "stdout",
     "output_type": "stream",
     "text": [
      "Response: \n",
      "\n",
      "Based on the context provided, the best romantic movie to watch would be \"Gorgeous\". This movie\n",
      "follows the story of a romantic girl who travels to Hong Kong in search of certain love but ends up\n",
      "meeting a kind-hearted professional fighter with whom she begins to fall for instead. It offers a\n",
      "mix of romance and adventure, providing a unique and engaging storyline for viewers to enjoy. So, if\n",
      "you are looking for a romantic movie filled with excitement and charm, \"Gorgeous\" would be a great\n",
      "choice to watch.\n",
      "\n",
      "\n",
      "Source Information: \n",
      "\n",
      "Title: Run, Plot: This action movie is filled with romance and adventure. As Abhisek fights for his\n",
      "life against the forces of crime and injustice, he meets Bhoomika, who captures his heart.\\nTitle:\n",
      "China Girl, Plot: A modern day Romeo & Juliet story is told in New York when an Italian boy and a\n",
      "Chinese girl become lovers, causing a tragic conflict between ethnic gangs.\\nTitle: Gorgeous, Plot:\n",
      "A romantic girl travels to Hong Kong in search of certain love but instead meets a kind-hearted\n",
      "professional fighter with whom she begins to fall for instead.\\nTitle: Once a Thief, Plot: A\n",
      "romantic and action packed story of three best friends, a group of high end art thieves, who come\n",
      "into trouble when a love-triangle forms between them.\\n\n"
     ]
    }
   ],
   "source": [
    "print(f\"Response: \\n\\n{textwrap.fill(response, 100)}\")\n",
    "\n",
    "print(\"\\n\")\n",
    "\n",
    "print(f\"Source Information: \\n\\n{textwrap.fill(source_information, 100)}\")"
   ]
  },
  {
   "cell_type": "markdown",
   "metadata": {},
   "source": [
    "## Using LCEL"
   ]
  },
  {
   "cell_type": "code",
   "execution_count": 5,
   "metadata": {},
   "outputs": [],
   "source": [
    "from langchain_openai import OpenAIEmbeddings\n",
    "from langchain_mongodb import MongoDBAtlasVectorSearch\n",
    "from langchain_openai import ChatOpenAI\n",
    "from langchain.prompts import (\n",
    "    PromptTemplate,\n",
    "    SystemMessagePromptTemplate,\n",
    "    HumanMessagePromptTemplate,\n",
    "    ChatPromptTemplate,\n",
    ")\n",
    "from langchain_core.runnables import RunnableParallel, RunnablePassthrough\n",
    "\n",
    "from langchain_core.output_parsers import StrOutputParser\n",
    "\n",
    "# Using the text-embedding-ada-002 since that's what was used to create embeddings in the movies dataset\n",
    "embeddings = OpenAIEmbeddings(openai_api_key=api_key, model=EMBEDDING_MODEL)\n",
    "\n",
    "# Vector Store Creation\n",
    "vector_store = MongoDBAtlasVectorSearch.from_connection_string(\n",
    "    connection_string=mongo_uri,\n",
    "    namespace=\"New_Movies.movie_collection\",\n",
    "    embedding=embeddings,\n",
    "    index_name=ATLAS_VECTOR_SEARCH_INDEX_NAME,\n",
    "    text_key=\"fullplot\",\n",
    ")\n",
    "\n",
    "retriever = vector_store.as_retriever(\n",
    "    search_type=\"similarity\", search_kwargs={\"k\": 5})\n",
    "\n",
    "# Create QA chain\n",
    "# Generate context using the retriever, and pass the user question through. Assigning question to a RunnablePassthrough object ensures the question gets passed unchanged to the next step in the chain.\n",
    "\n",
    "\n",
    "setup_and_retrieval = RunnableParallel(\n",
    "    {\"context\": retriever, \"question\": RunnablePassthrough()}\n",
    ")\n",
    "\n",
    "review_template_str = \"\"\"You are a movie recommendation system. Use the following context to answer questions. Be as detailed as possible, but don't make up any information that's not from the context. If you don't know an answer, say you don't know.\"\"\"\n",
    "\n",
    "review_system_prompt = SystemMessagePromptTemplate(\n",
    "    prompt=PromptTemplate(\n",
    "        input_variables=[\"context\"],\n",
    "        template=review_template_str,\n",
    "    )\n",
    ")\n",
    "\n",
    "review_human_prompt = HumanMessagePromptTemplate(\n",
    "    prompt=PromptTemplate(\n",
    "        input_variables=[\"question\"],\n",
    "        template=\"{question}\",\n",
    "    )\n",
    ")\n",
    "messages = [review_system_prompt, review_human_prompt]\n",
    "\n",
    "review_prompt_template = ChatPromptTemplate(\n",
    "    input_variables=[\"context\", \"question\"],\n",
    "    messages=messages,\n",
    ")\n",
    "\n",
    "# template = \"\"\"Answer the question based only on the following context: \\\n",
    "# {context}\n",
    "\n",
    "# Question: {question}\n",
    "# \"\"\"\n",
    "\n",
    "\n",
    "# # Defining the chat prompt\n",
    "# prompt_template = ChatPromptTemplate.from_template(template)\n",
    "\n",
    "\n",
    "# Defining the model to be used for chat completion\n",
    "model = ChatOpenAI(temperature=0, openai_api_key=api_key)\n",
    "\n",
    "\n",
    "# Parse output as a string\n",
    "parse_output = StrOutputParser()\n",
    "\n",
    "# Naive RAG chain to answer questions\n",
    "naive_rag_chain = setup_and_retrieval | review_prompt_template | model | parse_output"
   ]
  },
  {
   "cell_type": "code",
   "execution_count": 8,
   "metadata": {},
   "outputs": [
    {
     "name": "stdout",
     "output_type": "stream",
     "text": [
      "One highly recommended romantic movie to watch is \"The\n",
      "Notebook.\" This film, based on the novel by Nicholas Sparks,\n",
      "tells the story of a young couple, Noah and Allie, who fall\n",
      "in love one summer but are separated by their social\n",
      "differences. The movie beautifully captures the enduring\n",
      "power of love and the challenges that come with it. The\n",
      "chemistry between the lead actors, Ryan Gosling and Rachel\n",
      "McAdams, is palpable, drawing viewers into their emotional\n",
      "journey. The film is known for its heartfelt storytelling,\n",
      "poignant moments, and memorable quotes that have made it a\n",
      "classic in the romance genre. If you enjoy a heartfelt love\n",
      "story with emotional depth and strong performances, \"The\n",
      "Notebook\" is a must-watch.\n"
     ]
    }
   ],
   "source": [
    "print(\n",
    "    textwrap.fill(\n",
    "        naive_rag_chain.invoke(\"\"\"What is the best romantic movie to watch and why?\"\"\"),\n",
    "        60,\n",
    "    )\n",
    ")"
   ]
  },
  {
   "cell_type": "markdown",
   "metadata": {},
   "source": [
    "Building a chatbot"
   ]
  },
  {
   "cell_type": "code",
   "execution_count": 51,
   "metadata": {},
   "outputs": [
    {
     "name": "stdout",
     "output_type": "stream",
     "text": [
      "One of the best romantic movies to watch is \"The Notebook.\"\n",
      "This film, based on the novel by Nicholas Sparks, tells the\n",
      "story of a young couple, Noah and Allie, who fall in love\n",
      "one summer but are separated by their social differences.\n",
      "The movie beautifully captures the enduring power of love,\n",
      "the challenges of relationships, and the importance of\n",
      "holding onto memories. The chemistry between the lead\n",
      "actors, Ryan Gosling and Rachel McAdams, is palpable,\n",
      "drawing viewers into their emotional journey. The film's\n",
      "poignant storytelling, heartfelt moments, and beautiful\n",
      "cinematography make it a classic romantic movie that has\n",
      "touched the hearts of many viewers.\n"
     ]
    }
   ],
   "source": [
    "from langchain.chains import RetrievalQA\n",
    "\n",
    "reviews_vector_chain = RetrievalQA.from_chain_type(\n",
    "    llm=ChatOpenAI(model=\"gpt-3.5-turbo\", temperature=0),\n",
    "    chain_type=\"stuff\",\n",
    "    retriever=retriever,\n",
    ")\n",
    "reviews_vector_chain.combine_documents_chain.llm_chain.prompt = review_prompt_template\n",
    "\n",
    "response = reviews_vector_chain.invoke(query)\n",
    "\n",
    "print(textwrap.fill(response.get(\"result\"), 60))"
   ]
  },
  {
   "cell_type": "code",
   "execution_count": null,
   "metadata": {},
   "outputs": [],
   "source": []
  }
 ],
 "metadata": {
  "kernelspec": {
   "display_name": "Python 3",
   "language": "python",
   "name": "python3"
  },
  "language_info": {
   "codemirror_mode": {
    "name": "ipython",
    "version": 3
   },
   "file_extension": ".py",
   "mimetype": "text/x-python",
   "name": "python",
   "nbconvert_exporter": "python",
   "pygments_lexer": "ipython3",
   "version": "3.10.13"
  }
 },
 "nbformat": 4,
 "nbformat_minor": 2
}
